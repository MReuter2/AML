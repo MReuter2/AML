{
 "cells": [
  {
   "cell_type": "markdown",
   "id": "090f5923",
   "metadata": {},
   "source": [
    "<img src=\"https://www.th-koeln.de/img/logo.svg\" style=\"float:right;\" width=\"200\">"
   ]
  },
  {
   "cell_type": "markdown",
   "id": "9ab683bd",
   "metadata": {},
   "source": [
    "# 5th exercise: <font color=\"#C70039\">Work with Robust Random Cut Forest (RRCF) algorithms for anomaly detection</font>\n",
    "* Course: AML\n",
    "* Lecturer: <a href=\"https://www.gernotheisenberg.de/\">Gernot Heisenberg</a>\n",
    "* Author of notebook: Marvin Reuter\n",
    "* Matriculation number: 11139466\n",
    "* Date:   10.11.2024\n",
    "\n",
    "<img src=\"https://docs.aws.amazon.com/sagemaker/latest/dg/images/RCF2.jpg\" style=\"float: center;\" width=\"450\">\n",
    "\n",
    "---------------------------------\n",
    "**GENERAL NOTE 1**: \n",
    "Please make sure you are reading the entire notebook, since it contains a lot of information on your tasks (e.g. regarding the set of certain paramaters or a specific computational trick), and the written mark downs as well as comments contain a lot of information on how things work together as a whole. \n",
    "\n",
    "**GENERAL NOTE 2**: \n",
    "* Please, when commenting source code, just use English language only. \n",
    "* When describing an observation please use English language, too.\n",
    "* This applies to all exercises throughout this course.\n",
    "\n",
    "* <font color=red>Install the RRCF package per pip:_$ pip install rrcf_</font>\n",
    "\n",
    "The codes of this exercise is based on the codebase of the following team:\n",
    "\n",
    "_M. Bartos, A. Mullapudi, & S. Troutman, rrcf: Implementation of the Robust Random Cut Forest algorithm for anomaly detection on streams , in: Journal of Open Source Software, The Open Journal, Volume 4, Number 35. 2019_\n",
    "\n",
    "---------------------\n",
    "\n",
    "### <font color=\"ce33ff\">DESCRIPTION</font>:\n",
    "This notebook allows you for learning Amazon's Robust Random Cut Forest algorithm and its implementation for detecting anomalies. The Robust Random Cut Forest Algorithm for anomaly detection was invented by Guha et al. in 2016. Further reading can be found here (&rarr; <a href=\"http://proceedings.mlr.press/v48/guha16.pdf\">paper</a>):\n",
    "\n",
    "_S. Guha, N. Mishra, G. Roy, & O. Schrijvers, Robust random cut forest based anomaly detection on streams, in Proceedings of the 33rd International conference on machine learning, New York, NY, 2016 (pp. 2712-2721)_.\n",
    "\n",
    "-------------------------------------------------------------------------------------------------------------\n",
    "\n",
    "### <font color=\"FFC300\">TASKS</font>:\n",
    "The tasks that you need to work on within this notebook are always indicated below as bullet points. \n",
    "If a task is more challenging and consists of several steps, this is indicated as well. \n",
    "Make sure you have worked down the task list and commented your doings. \n",
    "This should be done by using markdown.<br> \n",
    "<font color=red>Make sure you don't forget to specify your name and your matriculation number in the notebook.</font>\n",
    "\n",
    "**YOUR TASKS in this exercise are as follows**:\n",
    "1. import the notebook to Google Colab or use your local machine.\n",
    "2. make sure you specified you name and your matriculation number in the header below my name and date. \n",
    "    * set the date too and remove mine.\n",
    "3. read the entire notebook carefully \n",
    "    * add comments whereever you feel it necessary for better understanding\n",
    "    * run the notebook for the first time. \n",
    "4. take the three data sets from exercize 1 and apply the RRCF to them.\n",
    "5. interpret the results in writing.\n",
    "-----------------------------------------------------------------------------------"
   ]
  },
  {
   "cell_type": "markdown",
   "id": "33ab5d67",
   "metadata": {},
   "source": [
    "### Robust random cut trees (part I)\n",
    "A RRCT can be instantiated from a point set. Points can also be added and removed from an RRCT."
   ]
  },
  {
   "cell_type": "code",
   "id": "79176af3",
   "metadata": {
    "tags": [],
    "ExecuteTime": {
     "end_time": "2025-01-02T19:40:26.382162Z",
     "start_time": "2025-01-02T19:40:26.372576Z"
    }
   },
   "source": [
    "import numpy as np\n",
    "import rrcf"
   ],
   "outputs": [],
   "execution_count": 2
  },
  {
   "cell_type": "markdown",
   "id": "245fffa3",
   "metadata": {},
   "source": [
    "#### A (robust) random cut tree can be instantiated from a point set (n x d)"
   ]
  },
  {
   "cell_type": "code",
   "id": "fabbb534",
   "metadata": {
    "tags": [],
    "ExecuteTime": {
     "end_time": "2025-01-02T19:40:26.506201Z",
     "start_time": "2025-01-02T19:40:26.483619Z"
    }
   },
   "source": [
    "X = np.random.randn(30, 2)\n",
    "tree = rrcf.RCTree(X)\n",
    "\n",
    "print(tree)"
   ],
   "outputs": [
    {
     "name": "stdout",
     "output_type": "stream",
     "text": [
      "─+\n",
      " ├───+\n",
      " │   ├──(2)\n",
      " │   └──(8)\n",
      " └───+\n",
      "     ├───+\n",
      "     │   ├───+\n",
      "     │   │   ├──(19)\n",
      "     │   │   └───+\n",
      "     │   │       ├───+\n",
      "     │   │       │   ├───+\n",
      "     │   │       │   │   ├──(3)\n",
      "     │   │       │   │   └───+\n",
      "     │   │       │   │       ├──(25)\n",
      "     │   │       │   │       └──(24)\n",
      "     │   │       │   └───+\n",
      "     │   │       │       ├──(13)\n",
      "     │   │       │       └──(9)\n",
      "     │   │       └───+\n",
      "     │   │           ├───+\n",
      "     │   │           │   ├──(17)\n",
      "     │   │           │   └──(29)\n",
      "     │   │           └───+\n",
      "     │   │               ├──(21)\n",
      "     │   │               └──(14)\n",
      "     │   └───+\n",
      "     │       ├───+\n",
      "     │       │   ├──(12)\n",
      "     │       │   └───+\n",
      "     │       │       ├──(0)\n",
      "     │       │       └───+\n",
      "     │       │           ├──(10)\n",
      "     │       │           └──(22)\n",
      "     │       └───+\n",
      "     │           ├───+\n",
      "     │           │   ├──(6)\n",
      "     │           │   └──(20)\n",
      "     │           └──(5)\n",
      "     └───+\n",
      "         ├───+\n",
      "         │   ├──(28)\n",
      "         │   └───+\n",
      "         │       ├───+\n",
      "         │       │   ├──(7)\n",
      "         │       │   └───+\n",
      "         │       │       ├───+\n",
      "         │       │       │   ├──(11)\n",
      "         │       │       │   └──(18)\n",
      "         │       │       └──(27)\n",
      "         │       └──(15)\n",
      "         └───+\n",
      "             ├───+\n",
      "             │   ├───+\n",
      "             │   │   ├──(23)\n",
      "             │   │   └──(26)\n",
      "             │   └───+\n",
      "             │       ├──(4)\n",
      "             │       └──(1)\n",
      "             └──(16)\n",
      "\n"
     ]
    }
   ],
   "execution_count": 3
  },
  {
   "cell_type": "markdown",
   "id": "722da09b",
   "metadata": {},
   "source": [
    "#### A random cut tree can also be instantiated with no points.\n",
    "The points can be inserted and removed afterwards."
   ]
  },
  {
   "cell_type": "code",
   "id": "708f7688",
   "metadata": {
    "tags": [],
    "ExecuteTime": {
     "end_time": "2025-01-02T19:40:26.724870Z",
     "start_time": "2025-01-02T19:40:26.709791Z"
    }
   },
   "source": [
    "tree = rrcf.RCTree()\n",
    "\n",
    "#Inserting points at index i\n",
    "for i in range(6):\n",
    "    x = np.random.randn(2)\n",
    "    #print(\"x=\",x)\n",
    "    tree.insert_point(x, index=i)\n",
    "\n",
    "print(tree)\n",
    "\n",
    "#Deleting points at index i \n",
    "tree.forget_point(2)\n",
    "\n",
    "print(tree)"
   ],
   "outputs": [
    {
     "name": "stdout",
     "output_type": "stream",
     "text": [
      "─+\n",
      " ├───+\n",
      " │   ├──(5)\n",
      " │   └───+\n",
      " │       ├───+\n",
      " │       │   ├──(4)\n",
      " │       │   └──(0)\n",
      " │       └──(2)\n",
      " └───+\n",
      "     ├──(1)\n",
      "     └──(3)\n",
      "\n",
      "─+\n",
      " ├───+\n",
      " │   ├──(5)\n",
      " │   └───+\n",
      " │       ├──(4)\n",
      " │       └──(0)\n",
      " └───+\n",
      "     ├──(1)\n",
      "     └──(3)\n",
      "\n"
     ]
    }
   ],
   "execution_count": 4
  },
  {
   "cell_type": "markdown",
   "id": "c146466b",
   "metadata": {},
   "source": [
    "### Robust random cut trees (part II)\n",
    "#### Anomaly score\n",
    "The likelihood that a point is an outlier is measured by the so-called <font color=red>collusive displacement (CoDisp)</font> score: if including a new point significantly changes the model's complexity (i.e. bit depth), then that point is more likely to be an outlier."
   ]
  },
  {
   "cell_type": "code",
   "id": "220a0621",
   "metadata": {
    "tags": [],
    "ExecuteTime": {
     "end_time": "2025-01-02T19:40:26.817866Z",
     "start_time": "2025-01-02T19:40:26.788766Z"
    }
   },
   "source": [
    "# Seed the tree with zero-mean, and hence normally distributed data points\n",
    "X = np.random.randn(100,2)\n",
    "tree = rrcf.RCTree(X)\n",
    "\n",
    "# Generate one inlier and one outlier point\n",
    "inlier = np.array([0, 0])\n",
    "outlier = np.array([4, 4])\n",
    "\n",
    "# Insert both points into the tree\n",
    "tree.insert_point(inlier, index='inlier')\n",
    "tree.insert_point(outlier, index='outlier')\n",
    "\n",
    "# Ask for their codisp (anomaly) score\n",
    "print(\"tree.codisp('inlier')=\",tree.codisp('inlier'))\n",
    "print(\"tree.codisp('outlier')=\",tree.codisp('outlier'))"
   ],
   "outputs": [
    {
     "name": "stdout",
     "output_type": "stream",
     "text": [
      "tree.codisp('inlier')= 3.0\n",
      "tree.codisp('outlier')= 19.4\n"
     ]
    }
   ],
   "execution_count": 5
  },
  {
   "cell_type": "markdown",
   "id": "f262a7c7",
   "metadata": {},
   "source": [
    "As a rule of thumb:\n",
    "* scores of max(abs(3 * stdev)) are ok\n",
    "* higher scores are an indication of an outlier."
   ]
  },
  {
   "cell_type": "markdown",
   "id": "d12adad7",
   "metadata": {},
   "source": [
    "### Robust random cut trees (part III)\n",
    "#### Batch anomaly detection\n",
    "This example shows how a robust random cut forest can be used to detect outliers in a batch setting. As you already know, outliers correspond to a larger CoDisp score."
   ]
  },
  {
   "cell_type": "code",
   "id": "b65ebaf6",
   "metadata": {
    "tags": [],
    "ExecuteTime": {
     "end_time": "2025-01-02T19:40:27.684889Z",
     "start_time": "2025-01-02T19:40:26.951577Z"
    }
   },
   "source": [
    "import numpy as np\n",
    "import pandas as pd\n",
    "import rrcf"
   ],
   "outputs": [],
   "execution_count": 6
  },
  {
   "cell_type": "code",
   "id": "6968ec2f",
   "metadata": {
    "tags": [],
    "ExecuteTime": {
     "end_time": "2025-01-02T19:40:30.974147Z",
     "start_time": "2025-01-02T19:40:27.827837Z"
    }
   },
   "source": [
    "'''\n",
    "In order to create a random forest, we simply create a list of RCTrees, \n",
    "with each RCTree constructed from a random sample of the input dataset. \n",
    "Let's create a random forest with 100 trees, each containing 256 points \n",
    "from the original sample.\n",
    "'''\n",
    "# Set parameters\n",
    "np.random.seed(0)\n",
    "n = 2010\n",
    "d = 3\n",
    "num_trees = 100\n",
    "tree_size = 256\n",
    "\n",
    "# Generate a random data set\n",
    "X = np.zeros((n, d))\n",
    "X[:1000,0] = 5\n",
    "X[1000:2000,0] = -5\n",
    "X += 0.01*np.random.randn(*X.shape)\n",
    "\n",
    "print(x)\n",
    "# Construct forest\n",
    "forest = []\n",
    "while len(forest) < num_trees:\n",
    "    # Select random subsets of points uniformly from point set\n",
    "    ixs = np.random.choice(n, size=(n // tree_size, tree_size),\n",
    "                           replace=False)\n",
    "    # Add sampled trees to forest\n",
    "    trees = [rrcf.RCTree(X[ix], index_labels=ix) for ix in ixs]\n",
    "    forest.extend(trees)\n",
    "\n",
    "'''\n",
    "Finally, to determine outliers we compute the average codisp \n",
    "over all trees for each point in the original sample.\n",
    "'''\n",
    "# Compute average CoDisp\n",
    "avg_codisp = pd.Series(0.0, index=np.arange(n))\n",
    "index = np.zeros(n)\n",
    "for tree in forest:\n",
    "    codisp = pd.Series({leaf : tree.codisp(leaf) for leaf in tree.leaves})\n",
    "    avg_codisp[codisp.index] += codisp\n",
    "    np.add.at(index, codisp.index.values, 1)\n",
    "avg_codisp /= index\n",
    "\n",
    "'''Now, print the average codisp for each set of points.'''\n",
    "# for the inlier points:\n",
    "print(\"AVG_codisp[inlier points]=\",round(avg_codisp[:-10].mean(),2))\n",
    "# for the outlier points:\n",
    "print(\"AVG_codisp[outlier points]=\",round(avg_codisp[-10:].mean(),2))"
   ],
   "outputs": [
    {
     "name": "stdout",
     "output_type": "stream",
     "text": [
      "[ 0.12836844 -0.13657018]\n",
      "AVG_codisp[inlier points]= 5.59\n",
      "AVG_codisp[outlier points]= 73.54\n"
     ]
    }
   ],
   "execution_count": 7
  },
  {
   "cell_type": "code",
   "id": "82e3fade",
   "metadata": {
    "tags": [],
    "ExecuteTime": {
     "end_time": "2025-01-02T19:40:31.097200Z",
     "start_time": "2025-01-02T19:40:31.059552Z"
    }
   },
   "source": [
    "'''\n",
    "Note that the outlier points again have a larger codisp. \n",
    "To classify the original points into inlier and outlier classes, \n",
    "perform a simple threshold test on the codisp result.\n",
    "'''\n",
    "# For example:\n",
    "print(\"Is outlier?\\n\",avg_codisp > avg_codisp.quantile(0.99))"
   ],
   "outputs": [
    {
     "name": "stdout",
     "output_type": "stream",
     "text": [
      "Is outlier?\n",
      " 0       False\n",
      "1       False\n",
      "2       False\n",
      "3       False\n",
      "4       False\n",
      "        ...  \n",
      "2005     True\n",
      "2006     True\n",
      "2007     True\n",
      "2008     True\n",
      "2009     True\n",
      "Length: 2010, dtype: bool\n"
     ]
    }
   ],
   "execution_count": 8
  },
  {
   "cell_type": "markdown",
   "id": "39476a29",
   "metadata": {},
   "source": [
    "### Robust random cut trees (part IV)\n",
    "#### Streaming anomaly detection\n",
    "This example shows how the algorithm can be used to detect anomalies in streaming time series data."
   ]
  },
  {
   "cell_type": "code",
   "id": "7338ba23",
   "metadata": {
    "tags": [],
    "ExecuteTime": {
     "end_time": "2025-01-02T19:40:49.727039Z",
     "start_time": "2025-01-02T19:40:31.169695Z"
    }
   },
   "source": [
    "import numpy as np\n",
    "import rrcf\n",
    "\n",
    "# Generate a data set (sine wave with an anomaly inside)\n",
    "n = 730\n",
    "A = 50\n",
    "center = 100\n",
    "phi = 30\n",
    "T = 2*np.pi/100\n",
    "t = np.arange(n)\n",
    "sin = A*np.sin(T*t-phi*T) + center\n",
    "sin[235:255] = 80\n",
    "\n",
    "# Set tree parameters\n",
    "num_trees = 40\n",
    "shingle_size = 4\n",
    "tree_size = 256\n",
    "\n",
    "# Construct again a forest of empty trees\n",
    "forest = []\n",
    "for _ in range(num_trees):\n",
    "    tree = rrcf.RCTree()\n",
    "    forest.append(tree)\n",
    "\n",
    "# Insert streaming points into tree and compute anomaly score\n",
    "# Use the \"shingle\" generator to create a rolling window\n",
    "points = rrcf.shingle(sin, size=shingle_size)\n",
    "\n",
    "# Create a dict to store anomaly score of each point\n",
    "avg_codisp = {}\n",
    "\n",
    "# For each shingle...\n",
    "for index, point in enumerate(points):\n",
    "    # For each tree in the forest...\n",
    "    for tree in forest:\n",
    "        # If tree is above permitted size, drop the oldest point (FIFO)\n",
    "        if len(tree.leaves) > tree_size:\n",
    "            tree.forget_point(index - tree_size)\n",
    "        # Insert the new point into the tree\n",
    "        tree.insert_point(point, index=index)\n",
    "        # Compute codisp on the new point and take the average among all trees\n",
    "        if not index in avg_codisp:\n",
    "            avg_codisp[index] = 0\n",
    "        avg_codisp[index] += tree.codisp(index) / num_trees"
   ],
   "outputs": [],
   "execution_count": 9
  },
  {
   "cell_type": "code",
   "id": "7b7f9197",
   "metadata": {
    "tags": [],
    "ExecuteTime": {
     "end_time": "2025-01-02T19:43:55.706588Z",
     "start_time": "2025-01-02T19:43:54.596313Z"
    }
   },
   "source": [
    "'''visualize the originil time series and the CoDisp score'''\n",
    "import pandas as pd\n",
    "import matplotlib.pyplot as plt\n",
    "import seaborn as sns\n",
    "\n",
    "fig, ax1 = plt.subplots(figsize=(10, 5))\n",
    "\n",
    "color = 'tab:red'\n",
    "ax1.set_ylabel('data points', color=color, size=14)\n",
    "ax1.plot(sin, color=color)\n",
    "ax1.tick_params(axis='y', labelcolor=color, labelsize=12)\n",
    "ax1.set_ylim(0,160)\n",
    "ax2 = ax1.twinx()\n",
    "color = 'tab:blue'\n",
    "ax2.set_ylabel('CoDisp', color=color, size=14)\n",
    "ax2.plot(pd.Series(avg_codisp).sort_index(), color=color)\n",
    "ax2.tick_params(axis='y', labelcolor=color, labelsize=12)\n",
    "ax2.grid('off')\n",
    "ax2.set_ylim(0, 160)\n",
    "plt.title('Sine wave with injected anomaly (red) and anomaly score (blue)', size=14)\n",
    "plt.show()"
   ],
   "outputs": [
    {
     "data": {
      "text/plain": [
       "<Figure size 1000x500 with 2 Axes>"
      ],
      "image/png": "[encoded data removed]"
     },
     "metadata": {},
     "output_type": "display_data"
    }
   ],
   "execution_count": 11
  },
  {
   "cell_type": "code",
   "execution_count": null,
   "id": "3cdc2e45-1c23-4e12-8987-31d2545326e6",
   "metadata": {},
   "outputs": [],
   "source": []
  }
 ],
 "metadata": {
  "kernelspec": {
   "display_name": "Python 3 (ipykernel)",
   "language": "python",
   "name": "python3"
  },
  "language_info": {
   "codemirror_mode": {
    "name": "ipython",
    "version": 3
   },
   "file_extension": ".py",
   "mimetype": "text/x-python",
   "name": "python",
   "nbconvert_exporter": "python",
   "pygments_lexer": "ipython3",
   "version": "3.9.17"
  }
 },
 "nbformat": 4,
 "nbformat_minor": 5
}
